{
 "cells": [
  {
   "cell_type": "code",
   "execution_count": 1,
   "id": "51581ae6",
   "metadata": {},
   "outputs": [],
   "source": [
    "import numpy as np\n",
    "import matplotlib.pyplot as plt"
   ]
  },
  {
   "cell_type": "code",
   "execution_count": 22,
   "id": "250ff9cb",
   "metadata": {},
   "outputs": [],
   "source": [
    "def gaussian_mixture(x, mu, sigma, mu0, sigma0):\n",
    "    first = 1 / (sigma * np.sqrt(2 * np.pi)) * np.exp(-(x - mu) ** 2 / (2 * sigma * sigma))\n",
    "    second = 1 / (sigma * np.sqrt(2 * np.pi)) * np.exp(-(x + mu) ** 2 / (2 * sigma * sigma))\n",
    "    center = 1 / (sigma0 * np.sqrt(2 * np.pi)) * np.exp(-(x - mu0) ** 2 / (2 * sigma0 * sigma0))\n",
    "    return 1 / 7 * first + 5 / 7 * center + 1 / 7 * second"
   ]
  },
  {
   "cell_type": "code",
   "execution_count": 55,
   "id": "cc006dbf",
   "metadata": {},
   "outputs": [],
   "source": [
    "def exponential_mixture(x, lambda_):\n",
    "    result = np.zeros(x.shape)\n",
    "    result[x >= 0] = 1 / 2 * lambda_ * np.exp(-lambda_ * x[x >= 0])\n",
    "    result[x < 0] = 1 / 2 * lambda_ * np.exp(lambda_ * x[x < 0])\n",
    "    return result"
   ]
  },
  {
   "cell_type": "code",
   "execution_count": 71,
   "id": "34676f9e",
   "metadata": {},
   "outputs": [],
   "source": [
    "def get_params_for_distribution(distr_type, variance):\n",
    "    modifier = 10\n",
    "    if distr_type == 'gaussian_mixture':\n",
    "        params = [10, 1, 0, 2]\n",
    "        params[0] += variance / modifier\n",
    "        params[3] += 0.5 * variance / modifier\n",
    "        return params\n",
    "    elif distr_type == 'exponential_mixture':\n",
    "        params = 1 / (variance / modifier + 1)\n",
    "        return params\n",
    "    else:\n",
    "        raise NotImplemented\n",
    "        \n",
    "\n",
    "def distribution_plot(x, distr_type, variance):\n",
    "    params = get_params_for_distribution(distr_type, variance)\n",
    "    if distr_type == 'gaussian_mixture':\n",
    "        return gaussian_mixture(x, *params)\n",
    "    elif distr_type == 'exponential_mixture':\n",
    "        return exponential_mixture(x, params)\n",
    "    else:\n",
    "        raise NotImplemented"
   ]
  },
  {
   "cell_type": "code",
   "execution_count": 72,
   "id": "e5aa9126",
   "metadata": {},
   "outputs": [
    {
     "data": {
      "text/plain": [
       "[<matplotlib.lines.Line2D at 0x7fbded3b7f70>]"
      ]
     },
     "execution_count": 72,
     "metadata": {},
     "output_type": "execute_result"
    },
    {
     "data": {
      "image/png": "[encoded data removed]",
      "text/plain": [
       "<Figure size 720x360 with 1 Axes>"
      ]
     },
     "metadata": {
      "needs_background": "light"
     },
     "output_type": "display_data"
    }
   ],
   "source": [
    "plt.figure(figsize=(10, 5))\n",
    "x = np.linspace(-25, 25, 1000)\n",
    "plt.plot(x, distribution_plot(x, 'exponential_mixture', 50))\n",
    "plt.plot(x, distribution_plot(x, 'exponential_mixture', 0))\n",
    "#plt.plot(x, distribution_plot(x, 'gaussian_mixture', 20))"
   ]
  },
  {
   "cell_type": "code",
   "execution_count": 73,
   "id": "fd52a4ee",
   "metadata": {},
   "outputs": [],
   "source": [
    "def sample_from_gaussian_mixture(generator, params):\n",
    "    mixture = generator.uniform(0, 1)\n",
    "    if mixture < 1 / 7:\n",
    "        return generator.normal(-params[0], params[1])\n",
    "    elif mixture > 6 / 7:\n",
    "        return generator.normal(params[0], params[1])\n",
    "    return generator.normal(params[2], params[3])"
   ]
  },
  {
   "cell_type": "code",
   "execution_count": 82,
   "id": "4c65876f",
   "metadata": {},
   "outputs": [],
   "source": [
    "params = get_params_for_distribution(\"gaussian_mixture\", 0)\n",
    "result = []\n",
    "generator = np.random.default_rng(None)\n",
    "for j in range(100000):\n",
    "    result.append(sample_from_gaussian_mixture(generator, params))"
   ]
  },
  {
   "cell_type": "code",
   "execution_count": 83,
   "id": "9e73b98b",
   "metadata": {},
   "outputs": [
    {
     "data": {
      "image/png": "[encoded data removed]",
      "text/plain": [
       "<Figure size 720x360 with 1 Axes>"
      ]
     },
     "metadata": {
      "needs_background": "light"
     },
     "output_type": "display_data"
    }
   ],
   "source": [
    "plt.figure(figsize=(10, 5))\n",
    "plt.hist(result, bins=100, density=True)\n",
    "plt.show()"
   ]
  },
  {
   "cell_type": "code",
   "execution_count": null,
   "id": "defcefb9",
   "metadata": {},
   "outputs": [],
   "source": []
  }
 ],
 "metadata": {
  "kernelspec": {
   "display_name": "Python 3 (ipykernel)",
   "language": "python",
   "name": "python3"
  },
  "language_info": {
   "codemirror_mode": {
    "name": "ipython",
    "version": 3
   },
   "file_extension": ".py",
   "mimetype": "text/x-python",
   "name": "python",
   "nbconvert_exporter": "python",
   "pygments_lexer": "ipython3",
   "version": "3.9.7"
  }
 },
 "nbformat": 4,
 "nbformat_minor": 5
}
